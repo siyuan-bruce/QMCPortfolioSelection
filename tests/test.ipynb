{
 "cells": [
  {
   "cell_type": "markdown",
   "metadata": {},
   "source": [
    "## Option Pricing"
   ]
  },
  {
   "cell_type": "code",
   "execution_count": 1,
   "metadata": {},
   "outputs": [],
   "source": [
    "from QuantumMC.quantummc import QuantumMC\n",
    "from QuantumMC.variable import Variable\n",
    "import numpy as np"
   ]
  },
  {
   "cell_type": "code",
   "execution_count": 2,
   "metadata": {},
   "outputs": [],
   "source": [
    "from qiskit.circuit.library import LinearAmplitudeFunction\n",
    "# number of qubits to represent the uncertainty\n",
    "num_uncertainty_qubits = 3\n",
    "\n",
    "# parameters for considered random distribution\n",
    "S = 2.0  # initial spot price\n",
    "vol = 0.4  # volatility of 40%\n",
    "r = 0.05  # annual interest rate of 4%\n",
    "T = 40 / 365  # 40 days to maturity\n",
    "\n",
    "mu = (r - 0.5 * vol**2) * T + np.log(S)\n",
    "sigma = vol * np.sqrt(T)\n",
    "mean = np.exp(mu + sigma**2 / 2)\n",
    "variance = (np.exp(sigma**2) - 1) * np.exp(2 * mu + sigma**2)\n",
    "stddev = np.sqrt(variance)\n",
    "\n",
    "# lowest and highest value considered for the spot price; in between, an equidistant discretization is considered.\n",
    "low = np.maximum(0, mean - 3 * stddev)\n",
    "high = mean + 3 * stddev\n",
    "\n",
    "# set the strike price (should be within the low and the high value of the uncertainty)\n",
    "strike_price = 1.896\n",
    "\n",
    "# set the approximation scaling for the payoff function\n",
    "c_approx = 0.25\n",
    "\n",
    "# setup piecewise linear objective fcuntion\n",
    "breakpoints = [low, strike_price]\n",
    "slopes = [0, 1]\n",
    "offsets = [0, 0]\n",
    "f_min = 0\n",
    "f_max = high - strike_price\n",
    "european_call_objective = LinearAmplitudeFunction(\n",
    "    num_uncertainty_qubits,\n",
    "    slopes,\n",
    "    offsets,\n",
    "    domain=(low, high),\n",
    "    image=(f_min, f_max),\n",
    "    breakpoints=breakpoints,\n",
    "    rescaling_factor=c_approx,\n",
    ")"
   ]
  },
  {
   "cell_type": "code",
   "execution_count": 3,
   "metadata": {},
   "outputs": [
    {
     "data": {
      "text/plain": [
       "0.18231197087131448"
      ]
     },
     "execution_count": 3,
     "metadata": {},
     "output_type": "execute_result"
    }
   ],
   "source": [
    "qmc = QuantumMC() #Initialization\n",
    "final_price = Variable(num_uncertainty_qubits)\n",
    "final_price.load_distribution(\"LogNormal\", num_uncertainty_qubits, mu=mu, sigma=sigma**2, bounds = (low, high))\n",
    "qmc.add_variable(final_price)\n",
    "result = qmc.estimate(0.05, 0.01, final_price, objective = european_call_objective)\n",
    "result"
   ]
  },
  {
   "cell_type": "markdown",
   "metadata": {},
   "source": [
    "## Portfolio Selection"
   ]
  },
  {
   "cell_type": "code",
   "execution_count": 19,
   "metadata": {},
   "outputs": [],
   "source": [
    "from QuantumMC.quantummc import QuantumMC\n",
    "from QuantumMC.variable import Variable\n",
    "import numpy as np"
   ]
  },
  {
   "cell_type": "code",
   "execution_count": 20,
   "metadata": {},
   "outputs": [
    {
     "data": {
      "text/plain": [
       "<QuantumMC.variable.Variable at 0x23ac36791c0>"
      ]
     },
     "execution_count": 20,
     "metadata": {},
     "output_type": "execute_result"
    }
   ],
   "source": [
    "qmc = QuantumMC()\n",
    "var1 = Variable(2, \"var1\")\n",
    "var1.load_constant(3)\n",
    "var2 = Variable(2, \"var2\")\n",
    "var2.load_constant(2)\n",
    "qmc.add_variable(var1)\n",
    "qmc.add_variable(var2)"
   ]
  },
  {
   "cell_type": "code",
   "execution_count": 21,
   "metadata": {},
   "outputs": [],
   "source": [
    "a, b = qmc.arithmetic(operation = \"power2\", variables = [var1])"
   ]
  },
  {
   "cell_type": "code",
   "execution_count": 22,
   "metadata": {},
   "outputs": [
    {
     "name": "stdout",
     "output_type": "stream",
     "text": [
      "{'1000': 1000}\n"
     ]
    },
    {
     "data": {
      "text/plain": [
       "8.0"
      ]
     },
     "execution_count": 22,
     "metadata": {},
     "output_type": "execute_result"
    }
   ],
   "source": [
    "from qiskit import *\n",
    "cr = ClassicalRegister(b.get_register().size)\n",
    "qmc.get_qc().add_register(cr)\n",
    "for i in range(cr.size):\n",
    "    qmc.get_qc().measure(b.get_register()[i], cr[i])\n",
    "    \n",
    "num_shots = 1000 #Setting the number of times to repeat measurement\n",
    "backend = Aer.get_backend(\"qasm_simulator\")\n",
    "job = execute(qmc.get_qc(), backend, shots=num_shots)\n",
    "#Get results of program\n",
    "job_stats = job.result().get_counts()\n",
    "print(job_stats)\n",
    "\n",
    "a = 0\n",
    "for i in job_stats:\n",
    "    a +=(int(i,2) * job_stats[i])   \n",
    "#     print(int(i,2))\n",
    "    \n",
    "a/num_shots"
   ]
  },
  {
   "cell_type": "markdown",
   "metadata": {},
   "source": [
    "## Scenario 1"
   ]
  },
  {
   "cell_type": "code",
   "execution_count": 16,
   "metadata": {},
   "outputs": [],
   "source": [
    "from QuantumMC.quantummc import QuantumMC\n",
    "from QuantumMC.variable import Variable\n",
    "import numpy as np"
   ]
  },
  {
   "cell_type": "code",
   "execution_count": 17,
   "metadata": {},
   "outputs": [],
   "source": [
    "qmc = QuantumMC()\n",
    "qw1 = qmc.walk(num_steps = 1, distribution = \"Normal\", size = 1, name = \"r\", mu = 1, sigma = 0.5)\n",
    "qw2 = qmc.walk(num_steps = 2, distribution = \"Normal\", size = 1, name = \"xi\", mu = 1, sigma = 0.5)"
   ]
  },
  {
   "cell_type": "code",
   "execution_count": 18,
   "metadata": {},
   "outputs": [],
   "source": [
    "a, b= qmc.arithmetic(\"add\", [qw1.vars[-1], qw2.vars[-1]])\n",
    "var = Variable(2, \"constant\")\n",
    "var.load_constant(2)\n",
    "qmc.add_variable(var)\n",
    "a, b= qmc.arithmetic(\"add\", [var, b])\n",
    "a, b = qmc.arithmetic(\"power2\", [b])"
   ]
  },
  {
   "cell_type": "code",
   "execution_count": 19,
   "metadata": {
    "scrolled": true
   },
   "outputs": [
    {
     "data": {
      "text/plain": [
       "33.59241262557278"
      ]
     },
     "execution_count": 19,
     "metadata": {},
     "output_type": "execute_result"
    }
   ],
   "source": [
    "result = qmc.estimate(0.05, 0.01, b, plain = False)\n",
    "result\n",
    "#55"
   ]
  },
  {
   "cell_type": "code",
   "execution_count": 20,
   "metadata": {},
   "outputs": [],
   "source": [
    "# result *  (2 ** b.num_qubits - 1)"
   ]
  },
  {
   "cell_type": "code",
   "execution_count": 21,
   "metadata": {
    "scrolled": true
   },
   "outputs": [
    {
     "name": "stdout",
     "output_type": "stream",
     "text": [
      "{'00100000': 99, '00010000': 1}\n"
     ]
    },
    {
     "data": {
      "text/plain": [
       "31.84"
      ]
     },
     "execution_count": 21,
     "metadata": {},
     "output_type": "execute_result"
    }
   ],
   "source": [
    "from qiskit import *\n",
    "cr = ClassicalRegister(b.get_register().size)\n",
    "qmc.get_qc().add_register(cr)\n",
    "for i in range(cr.size):\n",
    "    qmc.get_qc().measure(b.get_register()[i], cr[i])\n",
    "    \n",
    "num_shots = 100 #Setting the number of times to repeat measurement\n",
    "backend = Aer.get_backend(\"qasm_simulator\")\n",
    "job = execute(qmc.get_qc(), backend, shots=num_shots)\n",
    "#Get results of program\n",
    "job_stats = job.result().get_counts()\n",
    "print(job_stats)\n",
    "\n",
    "a = 0\n",
    "for i in job_stats:\n",
    "    a +=(int(i,2) * job_stats[i])   \n",
    "#     print(int(i,2))\n",
    "    \n",
    "a/num_shots"
   ]
  },
  {
   "cell_type": "markdown",
   "metadata": {},
   "source": [
    "## Scenario 2"
   ]
  },
  {
   "cell_type": "code",
   "execution_count": 22,
   "metadata": {},
   "outputs": [],
   "source": [
    "from QuantumMC.quantummc import QuantumMC\n",
    "from QuantumMC.variable import Variable\n",
    "import numpy as np"
   ]
  },
  {
   "cell_type": "code",
   "execution_count": 23,
   "metadata": {},
   "outputs": [
    {
     "data": {
      "text/plain": [
       "<qiskit.circuit.instructionset.InstructionSet at 0x1b3c61a4700>"
      ]
     },
     "execution_count": 23,
     "metadata": {},
     "output_type": "execute_result"
    }
   ],
   "source": [
    "qmc = QuantumMC()\n",
    "qw1 = qmc.walk(num_steps = 1, distribution = \"Normal\", size = 1, name = \"r\")\n",
    "qw2 = qmc.walk(num_steps = 1, distribution = \"Normal\", size = 1, name = \"xi\")\n",
    "qmc.get_qc().barrier()"
   ]
  },
  {
   "cell_type": "code",
   "execution_count": 24,
   "metadata": {},
   "outputs": [],
   "source": [
    "a, b= qmc.arithmetic(\"add\", [qw1.vars[-1], qw2.vars[-1]])\n",
    "\n",
    "var = Variable(1, \"constant\")\n",
    "var.load_constant(1)\n",
    "qmc.add_variable(var)\n",
    "\n",
    "a, b= qmc.arithmetic(\"add\", [var, b], pad = False)\n",
    "a, b = qmc.arithmetic(\"power2\", [b])"
   ]
  },
  {
   "cell_type": "code",
   "execution_count": 25,
   "metadata": {},
   "outputs": [],
   "source": [
    "a, b, c= qmc.arithmetic(\"mult\", [qw1.vars[0], b])"
   ]
  },
  {
   "cell_type": "code",
   "execution_count": 26,
   "metadata": {},
   "outputs": [
    {
     "data": {
      "text/plain": [
       "2.7283594879938358"
      ]
     },
     "execution_count": 26,
     "metadata": {},
     "output_type": "execute_result"
    }
   ],
   "source": [
    "result = qmc.estimate(0.01, 0.01, c, plain = False)\n",
    "result\n",
    "#1.1"
   ]
  },
  {
   "cell_type": "code",
   "execution_count": 27,
   "metadata": {},
   "outputs": [],
   "source": [
    "from qiskit import *\n",
    "cr = ClassicalRegister(c.get_register().size)\n",
    "qmc.get_qc().add_register(cr)\n",
    "for i in range(cr.size):\n",
    "    qmc.get_qc().measure(c.get_register()[i], cr[i])"
   ]
  },
  {
   "cell_type": "code",
   "execution_count": 28,
   "metadata": {},
   "outputs": [
    {
     "name": "stdout",
     "output_type": "stream",
     "text": [
      "{'001000': 27, '000000': 55, '000100': 18}\n"
     ]
    }
   ],
   "source": [
    "num_shots = 100 #Setting the number of times to repeat measurement\n",
    "backend = Aer.get_backend(\"qasm_simulator\")\n",
    "job = execute(qmc.get_qc(), backend, shots=num_shots)\n",
    "#Get results of program\n",
    "job_stats = job.result().get_counts()\n",
    "print(job_stats)"
   ]
  },
  {
   "cell_type": "code",
   "execution_count": 29,
   "metadata": {},
   "outputs": [],
   "source": [
    "a = 0\n",
    "for i in job_stats:\n",
    "    a +=(int(i,2) * job_stats[i])   \n",
    "#     print(int(i,2))"
   ]
  },
  {
   "cell_type": "code",
   "execution_count": 30,
   "metadata": {},
   "outputs": [
    {
     "data": {
      "text/plain": [
       "2.88"
      ]
     },
     "execution_count": 30,
     "metadata": {},
     "output_type": "execute_result"
    }
   ],
   "source": [
    "a/num_shots"
   ]
  },
  {
   "cell_type": "code",
   "execution_count": null,
   "metadata": {},
   "outputs": [],
   "source": []
  }
 ],
 "metadata": {
  "kernelspec": {
   "display_name": "Python 3",
   "language": "python",
   "name": "python3"
  },
  "language_info": {
   "codemirror_mode": {
    "name": "ipython",
    "version": 3
   },
   "file_extension": ".py",
   "mimetype": "text/x-python",
   "name": "python",
   "nbconvert_exporter": "python",
   "pygments_lexer": "ipython3",
   "version": "3.8.5"
  }
 },
 "nbformat": 4,
 "nbformat_minor": 4
}
